{
 "cells": [
  {
   "cell_type": "code",
   "execution_count": 235,
   "id": "b50a4364",
   "metadata": {},
   "outputs": [],
   "source": [
    "import gzip\n",
    "import matplotlib.pyplot as plt\n",
    "import numpy\n",
    "import random\n",
    "import scipy\n",
    "import tensorflow as tf\n",
    "from collections import defaultdict\n",
    "from scipy.spatial import distance\n",
    "import dateutil\n",
    "import os\n",
    "from sklearn.metrics import roc_auc_score\n",
    "import json, time\n",
    "import pandas as pd\n",
    "def parseData(fname):\n",
    "    for l in open(fname):\n",
    "        yield eval(l)\n",
    "def readDataFull(path):\n",
    "    data = []\n",
    "    for line in gzip.open(path):\n",
    "        d = eval(line)\n",
    "        data.append(d)  \n",
    "    return data"
   ]
  },
  {
   "cell_type": "code",
   "execution_count": 236,
   "id": "0a76eccf",
   "metadata": {},
   "outputs": [],
   "source": [
    "dataFolder = 'data/filtered_data/'\n",
    "users_file_name = dataFolder + 'filtered_users.json'\n",
    "places_file_name = dataFolder + 'filtered_places.json'\n",
    "reviews_file_name = dataFolder + 'filtered_reviews.json'"
   ]
  },
  {
   "cell_type": "code",
   "execution_count": 237,
   "id": "e610b551",
   "metadata": {},
   "outputs": [],
   "source": [
    "data_user  = pd.DataFrame(json.load(open(users_file_name)))\n",
    "data_places = pd.DataFrame(json.load(open(places_file_name)))\n",
    "data_reviews  = pd.DataFrame(json.load(open(reviews_file_name)))"
   ]
  },
  {
   "cell_type": "code",
   "execution_count": 238,
   "id": "1252678b",
   "metadata": {},
   "outputs": [],
   "source": [
    "userIDs = {}\n",
    "itemIDs = {}\n",
    "interactions = []\n",
    "interactionsPerUser = defaultdict(list)\n",
    "userVisitedPlaces = defaultdict(set)\n",
    "uniquePlaces = set()\n",
    "for _i, d in data_reviews.iterrows():\n",
    "    u = d['gPlusUserId']\n",
    "    i = d['gPlusPlaceId']\n",
    "    t = d['unixReviewTime']\n",
    "    r = d['rating']\n",
    "    uniquePlaces.add(i)\n",
    "    #dt = dateutil.parser.parse(t)\n",
    "    #t = int(dt.timestamp())\n",
    "    if not u in userIDs: userIDs[u] = len(userIDs)\n",
    "    if not i in itemIDs: itemIDs[i] = len(itemIDs)\n",
    "    interactions.append((t,u,i,r))\n",
    "    interactionsPerUser[u].append((t,i,r))\n",
    "    userVisitedPlaces[u].add(i)"
   ]
  },
  {
   "cell_type": "code",
   "execution_count": 239,
   "id": "e8cd0371",
   "metadata": {},
   "outputs": [
    {
     "data": {
      "text/plain": [
       "308846"
      ]
     },
     "execution_count": 239,
     "metadata": {},
     "output_type": "execute_result"
    }
   ],
   "source": [
    "len(interactions)"
   ]
  },
  {
   "cell_type": "code",
   "execution_count": 240,
   "id": "c01bf838",
   "metadata": {},
   "outputs": [],
   "source": [
    "interactions.sort()"
   ]
  },
  {
   "cell_type": "code",
   "execution_count": 241,
   "id": "2e09769c",
   "metadata": {},
   "outputs": [
    {
     "data": {
      "text/plain": [
       "15.4423"
      ]
     },
     "execution_count": 241,
     "metadata": {},
     "output_type": "execute_result"
    }
   ],
   "source": [
    "userInteractionAvg = sum ([len(interactionsPerUser[u]) for u in interactionsPerUser])  / len(interactionsPerUser)\n",
    "userInteractionAvg"
   ]
  },
  {
   "cell_type": "code",
   "execution_count": 242,
   "id": "a3f512b2",
   "metadata": {},
   "outputs": [],
   "source": [
    "itemIDs['dummy'] = len(itemIDs)\n",
    "uniquePlacesList = list(uniquePlaces)"
   ]
  },
  {
   "cell_type": "code",
   "execution_count": 243,
   "id": "498c6e16",
   "metadata": {},
   "outputs": [],
   "source": [
    "interactionstrain = []\n",
    "interactionstest = []\n",
    "for u in interactionsPerUser:\n",
    "    interactionsPerUser[u].sort()\n",
    "    list_users = interactionsPerUser[u]\n",
    "    lastItem = 'dummy'\n",
    "    for (t,i,r) in list_users[:-1]:\n",
    "        interactionstrain.append((t,u,i,lastItem,r)) # positive example\n",
    "        #getrandomPlace = place_not_visited(u)\n",
    "        #interactionstrain.append((t,u,getrandomPlace,lastItem,-1)) # negative example\n",
    "        lastItem = i\n",
    "    (t,i,r) = list_users[-1]\n",
    "    #getrandomPlace = place_not_visited(u)\n",
    "    interactionstest.append((t,u,i,lastItem,r))\n",
    "    #interactionstest.append((t,u,getrandomPlace,lastItem,-1))\n",
    "    lastItem = i"
   ]
  },
  {
   "cell_type": "code",
   "execution_count": 244,
   "id": "38a089d2",
   "metadata": {},
   "outputs": [
    {
     "name": "stdout",
     "output_type": "stream",
     "text": [
      "20000 218133\n",
      "288846\n",
      "20000\n"
     ]
    }
   ],
   "source": [
    "nUsers,nItems = len(userIDs),len(itemIDs)\n",
    "items = list(itemIDs.keys())\n",
    "print(nUsers,nItems)\n",
    "print(len(interactionstrain))\n",
    "print(len(interactionstest))"
   ]
  },
  {
   "cell_type": "code",
   "execution_count": 245,
   "id": "f34291c2",
   "metadata": {},
   "outputs": [],
   "source": [
    "itemsPerUser = defaultdict(set)\n",
    "for _,u,i,_,_ in interactionstrain:\n",
    "    itemsPerUser[u].add(i)"
   ]
  },
  {
   "cell_type": "code",
   "execution_count": 246,
   "id": "705f7dfe",
   "metadata": {},
   "outputs": [],
   "source": [
    "optimizer = tf.keras.optimizers.Adam(0.02)"
   ]
  },
  {
   "cell_type": "code",
   "execution_count": 294,
   "id": "b7178036",
   "metadata": {},
   "outputs": [],
   "source": [
    "class FPMC(tf.keras.Model):\n",
    "    def __init__(self, K, lamb, UI = 1, IJ = 1):\n",
    "        super(FPMC, self).__init__()\n",
    "        # Initialize variables\n",
    "        self.betaI = tf.Variable(tf.random.normal([len(itemIDs)],stddev=0.001))\n",
    "        self.gammaUI = tf.Variable(tf.random.normal([len(userIDs),K],stddev=0.001))\n",
    "        self.gammaIU = tf.Variable(tf.random.normal([len(itemIDs),K],stddev=0.001))\n",
    "        self.gammaIJ = tf.Variable(tf.random.normal([len(itemIDs),K],stddev=0.001))\n",
    "        self.gammaJI = tf.Variable(tf.random.normal([len(itemIDs),K],stddev=0.001))\n",
    "        \n",
    "        # Regularization coefficient\n",
    "        self.lamb = lamb\n",
    "        # Which terms to include\n",
    "        self.UI = UI\n",
    "        self.IJ = IJ\n",
    "\n",
    "    # Prediction for a single instance\n",
    "    def predict(self, u, i, j):\n",
    "        p = self.betaI[i] + self.UI * tf.tensordot(self.gammaUI[u], self.gammaIU[i], 1) +\\\n",
    "                            self.IJ * tf.tensordot(self.gammaIJ[i], self.gammaJI[j], 1)\n",
    "        return p\n",
    "\n",
    "    # Regularizer\n",
    "    def reg(self):\n",
    "        return self.lamb * (tf.nn.l2_loss(self.betaI) +\\\n",
    "                            tf.nn.l2_loss(self.gammaUI) +\\\n",
    "                            tf.nn.l2_loss(self.gammaIU) +\\\n",
    "                            tf.nn.l2_loss(self.gammaIJ) +\\\n",
    "                            tf.nn.l2_loss(self.gammaJI))\n",
    "\n",
    "    def call(self, sampleU, # user\n",
    "                   sampleI, # item\n",
    "                   sampleJ, # previous item\n",
    "                   sampleK): # negative item\n",
    "        u = tf.convert_to_tensor(sampleU, dtype=tf.int32)\n",
    "        i = tf.convert_to_tensor(sampleI, dtype=tf.int32)\n",
    "        j = tf.convert_to_tensor(sampleJ, dtype=tf.int32)\n",
    "        k = tf.convert_to_tensor(sampleK, dtype=tf.int32)\n",
    "        \n",
    "        gamma_ui = tf.nn.embedding_lookup(self.gammaUI, u)\n",
    "        gamma_iu = tf.nn.embedding_lookup(self.gammaIU, i)\n",
    "        gamma_ij = tf.nn.embedding_lookup(self.gammaIJ, i)\n",
    "        gamma_ji = tf.nn.embedding_lookup(self.gammaJI, j)\n",
    "        \n",
    "        beta_i = tf.nn.embedding_lookup(self.betaI, i)\n",
    "        x_uij = beta_i + self.UI * tf.reduce_sum(tf.multiply(gamma_ui, gamma_iu), 1) +\\\n",
    "                         self.IJ * tf.reduce_sum(tf.multiply(gamma_ij, gamma_ji), 1)\n",
    "        gamma_uk = tf.nn.embedding_lookup(self.gammaUI, u)\n",
    "        gamma_ku = tf.nn.embedding_lookup(self.gammaIU, k)\n",
    "        gamma_kj = tf.nn.embedding_lookup(self.gammaIJ, k)\n",
    "        gamma_jk = tf.nn.embedding_lookup(self.gammaJI, j)\n",
    "        beta_k = tf.nn.embedding_lookup(self.betaI, k)\n",
    "        x_ukj = beta_k + self.UI * tf.reduce_sum(tf.multiply(gamma_uk, gamma_ku), 1) +\\\n",
    "                         self.IJ * tf.reduce_sum(tf.multiply(gamma_kj, gamma_jk), 1)\n",
    "        return -tf.reduce_mean(tf.math.log(tf.math.sigmoid(x_uij - x_ukj)))"
   ]
  },
  {
   "cell_type": "code",
   "execution_count": 249,
   "id": "41584d24",
   "metadata": {},
   "outputs": [],
   "source": [
    "modelFPMC = FPMC(5, 0.00001)"
   ]
  },
  {
   "cell_type": "code",
   "execution_count": 250,
   "id": "38eff108",
   "metadata": {},
   "outputs": [],
   "source": [
    "def trainingStep(model, interactionstrain):\n",
    "    with tf.GradientTape() as tape:\n",
    "        sampleU, sampleI, sampleJ, sampleK = [], [], [], []\n",
    "        for _ in range(100000):\n",
    "            _,u,i,j,_ = random.choice(interactionstrain) # positive sample\n",
    "            k = random.choice(items) # negative sample\n",
    "            while k in itemsPerUser[u]:\n",
    "                k = random.choice(items)\n",
    "            sampleU.append(userIDs[u])\n",
    "            sampleI.append(itemIDs[i])\n",
    "            sampleJ.append(itemIDs[j])\n",
    "            sampleK.append(itemIDs[k])\n",
    "        \n",
    "\n",
    "        loss = model(sampleU,sampleI,sampleJ,sampleK)\n",
    "        loss += model.reg()\n",
    "    gradients = tape.gradient(loss, model.trainable_variables)\n",
    "    optimizer.apply_gradients((grad, var) for\n",
    "                              (grad, var) in zip(gradients, model.trainable_variables)\n",
    "                              if grad is not None)\n",
    "    return loss.numpy()"
   ]
  },
  {
   "cell_type": "code",
   "execution_count": 298,
   "id": "0c991814",
   "metadata": {},
   "outputs": [
    {
     "name": "stdout",
     "output_type": "stream",
     "text": [
      "iteration 10, objective = 0.6111991\n",
      "iteration 20, objective = 0.61060315\n"
     ]
    }
   ],
   "source": [
    "for i in range(20):\n",
    "    obj = trainingStep(modelFPMC, interactionstrain)\n",
    "    if (i % 10 == 9): \n",
    "        print(\"iteration \" + str(i+1) + \", objective = \" + str(obj))"
   ]
  },
  {
   "cell_type": "code",
   "execution_count": 303,
   "id": "9751042e",
   "metadata": {},
   "outputs": [],
   "source": [
    "interactionsTestPerUser = defaultdict(list)\n",
    "itemSet = set()\n",
    "\n",
    "for _,u,i,j,_ in interactionstest:\n",
    "#for _,u,i,j,_ in interactionstrain:\n",
    "    interactionsTestPerUser[u].append((i,j))\n",
    "    itemSet.add(i)\n",
    "    itemSet.add(j)\n",
    "    \n",
    "# def AUCu(model, u, N):\n",
    "#     win = 0\n",
    "\n",
    "#     positive = [interactionsTestPerUser[u][0]] * N\n",
    "#     negative = random.sample(itemSet,N)\n",
    "#     for (i,j),k in zip(positive,negative):\n",
    "#         sp = model.predict(userIDs[u], itemIDs[i], itemIDs[j]).numpy()\n",
    "#         sn = model.predict(userIDs[u], itemIDs[k], itemIDs[j]).numpy()\n",
    "#         if sp > sn:\n",
    "#             win += 1\n",
    "#     return win/N\n",
    "\n",
    "def AUCu(model, u, N):\n",
    "    win = 0\n",
    "    if N > len(interactionsTestPerUser[u]):\n",
    "        N = len(interactionsTestPerUser[u])\n",
    "    positive = random.sample(interactionsTestPerUser[u],N)\n",
    "    negative = random.sample(itemSet,N)\n",
    "    for (i,j),k in zip(positive,negative):\n",
    "        sp = model.predict(userIDs[u], itemIDs[i], itemIDs[j]).numpy()\n",
    "        sn = model.predict(userIDs[u], itemIDs[k], itemIDs[j]).numpy()\n",
    "        #print(sp)\n",
    "        #print(sn)\n",
    "        if sp > sn:\n",
    "            win += 1\n",
    "    return win/N\n",
    "\n",
    "def AUC(model):\n",
    "    av = []\n",
    "    cnt = 0\n",
    "    for u in interactionsTestPerUser:\n",
    "        if cnt > 1000:\n",
    "            break\n",
    "        cnt += 1\n",
    "        av.append(AUCu(model, u, 1))\n",
    "    return sum(av) / len(av)"
   ]
  },
  {
   "cell_type": "code",
   "execution_count": 304,
   "id": "5238599e",
   "metadata": {},
   "outputs": [
    {
     "data": {
      "text/plain": [
       "0.3676323676323676"
      ]
     },
     "execution_count": 304,
     "metadata": {},
     "output_type": "execute_result"
    }
   ],
   "source": [
    "AUC(modelFPMC)"
   ]
  },
  {
   "cell_type": "code",
   "execution_count": 171,
   "id": "be942a1d",
   "metadata": {},
   "outputs": [],
   "source": [
    "# Popular Baseline\n",
    "class PopularBaseline():\n",
    "    def __init__(self):\n",
    "        placesCount = defaultdict(int)\n",
    "        for i, r in data_reviews.iterrows():\n",
    "            placesCount[r['gPlusPlaceId']] += 1\n",
    "        popularPlaces = sorted([(placesCount[p], p) for p in placesCount], reverse=False)\n",
    "        self.popScore = [0] * len(itemIDs)\n",
    "        for i, (c, p) in enumerate(popularPlaces):\n",
    "            self.popScore[itemIDs[p]] = i\n",
    "    \n",
    "    def predict(self, u, i, j):\n",
    "        return numpy.array(self.popScore[i])"
   ]
  },
  {
   "cell_type": "code",
   "execution_count": 172,
   "id": "b9e9efbf",
   "metadata": {},
   "outputs": [],
   "source": [
    "model = PopularBaseline()"
   ]
  },
  {
   "cell_type": "code",
   "execution_count": 187,
   "id": "6ab377c2",
   "metadata": {},
   "outputs": [
    {
     "name": "stdout",
     "output_type": "stream",
     "text": [
      "0\n",
      "5000\n",
      "10000\n",
      "15000\n"
     ]
    },
    {
     "data": {
      "text/plain": [
       "0.514024999999996"
      ]
     },
     "execution_count": 187,
     "metadata": {},
     "output_type": "execute_result"
    }
   ],
   "source": [
    "interactionsTestPerUser = defaultdict(set)\n",
    "itemSet = set()\n",
    "for _,u,i,j,_ in interactionstest:\n",
    "    interactionsTestPerUser[u].add((i,j))\n",
    "    itemSet.add(i)\n",
    "    itemSet.add(j)\n",
    "    \n",
    "def AUCu(model, u, N):\n",
    "    win = 0\n",
    "    positive = [random.sample(interactionsTestPerUser[u],1)[0]] * N\n",
    "    negative = random.sample(itemSet,N)\n",
    "    for (i,j),k in zip(positive,negative):\n",
    "        sp = model.predict(userIDs[u], itemIDs[i], itemIDs[j])\n",
    "        sn = model.predict(userIDs[u], itemIDs[k], itemIDs[j])\n",
    "        if sp > sn:\n",
    "            win += 1\n",
    "    return win/N\n",
    "\n",
    "def AUC(model):\n",
    "    av = []\n",
    "    cnt = 0\n",
    "    for u in interactionsTestPerUser:\n",
    "        if cnt % 5000 == 0:\n",
    "            print(cnt)\n",
    "        cnt += 1\n",
    "        av.append(AUCu(model, u, 10))\n",
    "    return sum(av) / len(av)\n",
    "AUC(model)"
   ]
  },
  {
   "cell_type": "code",
   "execution_count": 186,
   "id": "76d94b49",
   "metadata": {},
   "outputs": [
    {
     "data": {
      "text/plain": [
       "[[('105013582067549662050', '106632236204204927665')],\n",
       " [('105013582067549662050', '106632236204204927665')],\n",
       " [('105013582067549662050', '106632236204204927665')],\n",
       " [('105013582067549662050', '106632236204204927665')],\n",
       " [('105013582067549662050', '106632236204204927665')],\n",
       " [('105013582067549662050', '106632236204204927665')],\n",
       " [('105013582067549662050', '106632236204204927665')],\n",
       " [('105013582067549662050', '106632236204204927665')],\n",
       " [('105013582067549662050', '106632236204204927665')],\n",
       " [('105013582067549662050', '106632236204204927665')]]"
      ]
     },
     "execution_count": 186,
     "metadata": {},
     "output_type": "execute_result"
    }
   ],
   "source": [
    "[random.sample(interactionsTestPerUser[u],1)] * 10"
   ]
  },
  {
   "cell_type": "code",
   "execution_count": 257,
   "id": "2990d227",
   "metadata": {},
   "outputs": [],
   "source": [
    "x = set()"
   ]
  },
  {
   "cell_type": "code",
   "execution_count": 258,
   "id": "e416be1f",
   "metadata": {},
   "outputs": [],
   "source": [
    "x.add(1)"
   ]
  },
  {
   "cell_type": "code",
   "execution_count": 267,
   "id": "86341205",
   "metadata": {},
   "outputs": [
    {
     "data": {
      "text/plain": [
       "20000"
      ]
     },
     "execution_count": 267,
     "metadata": {},
     "output_type": "execute_result"
    }
   ],
   "source": [
    "len(interactionstest)"
   ]
  },
  {
   "cell_type": "code",
   "execution_count": null,
   "id": "9fa2c1e5",
   "metadata": {},
   "outputs": [],
   "source": []
  }
 ],
 "metadata": {
  "kernelspec": {
   "display_name": "Python 3 (ipykernel)",
   "language": "python",
   "name": "python3"
  },
  "language_info": {
   "codemirror_mode": {
    "name": "ipython",
    "version": 3
   },
   "file_extension": ".py",
   "mimetype": "text/x-python",
   "name": "python",
   "nbconvert_exporter": "python",
   "pygments_lexer": "ipython3",
   "version": "3.8.12"
  }
 },
 "nbformat": 4,
 "nbformat_minor": 5
}
