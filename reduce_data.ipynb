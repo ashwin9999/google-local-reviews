{
 "cells": [
  {
   "cell_type": "markdown",
   "id": "25a08039",
   "metadata": {},
   "source": [
    "# CSE 258 - Assignment 2"
   ]
  },
  {
   "cell_type": "code",
   "execution_count": 2,
   "id": "1605d896",
   "metadata": {},
   "outputs": [],
   "source": [
    "import gzip\n",
    "import json\n",
    "import time\n",
    "from collections import defaultdict\n",
    "import plotly.graph_objects as go\n",
    "from sklearn.cluster import KMeans\n",
    "import tensorflow as tf\n",
    "from IPython.display import Image"
   ]
  },
  {
   "cell_type": "code",
   "execution_count": 3,
   "id": "6390b190",
   "metadata": {},
   "outputs": [],
   "source": [
    "dataFolder = 'data/reduced_us_google_local'"
   ]
  },
  {
   "cell_type": "markdown",
   "id": "89473e49",
   "metadata": {},
   "source": [
    "## Reduce dataset"
   ]
  },
  {
   "cell_type": "code",
   "execution_count": 5,
   "id": "149e206d",
   "metadata": {},
   "outputs": [],
   "source": [
    "us0Min, us0Max = 24.18, 49.03\n",
    "us1Min, us1Max = -125.57, -58.65\n",
    "usPlacesPath = dataFolder + '/us_places.json'\n",
    "usUsersPath = dataFolder + '/us_users.json'\n",
    "usReviewsPath = dataFolder + '/us_reviews.json'\n",
    "finalReviewsPath = dataFolder + '/final_reviews.json'\n",
    "reviewsPath = dataFolder + '/reviews.clean.json.gz' \n",
    "usersPath = dataFolder + '/users.clean.json.gz'\n",
    "fReviewsPath = dataFolder + '/filtered_reviews.json'\n",
    "fUsersPath = dataFolder + '/filtered_users.json'\n",
    "fPlacesPath = dataFolder + '/filtered_places.json'"
   ]
  },
  {
   "cell_type": "code",
   "execution_count": 4,
   "id": "47475348",
   "metadata": {},
   "outputs": [],
   "source": [
    "def readData(path):\n",
    "    with open(path) as f:\n",
    "        return json.load(f)"
   ]
  },
  {
   "cell_type": "code",
   "execution_count": 26,
   "id": "75e34a21",
   "metadata": {},
   "outputs": [],
   "source": [
    "def filterPlaces(path):\n",
    "    placeIds = []\n",
    "    f = open(usPlacesPath, 'w')\n",
    "    for line in gzip.open(path):\n",
    "        d = eval(line)\n",
    "        if d['gps'] and d['gps'][0] > us0Min and d['gps'][0] < us0Max and d['gps'][1] > us1Min and d['gps'][1] < us1Max:\n",
    "            f.write(json.dumps(d) + '\\n')\n",
    "            placeIds.append(d['gPlusPlaceId'])\n",
    "    f.close()\n",
    "    return set(placeIds)\n",
    "\n",
    " \n",
    "    \n",
    "    \n",
    "def filterReviews(path, placeIds):\n",
    "    f = open(usReviewsPath, 'w')\n",
    "    for line in gzip.open(path):\n",
    "        d = eval(line)\n",
    "        if d['gPlusPlaceId'] in placeIds:\n",
    "            f.write(json.dumps(d) + '\\n')\n",
    "    f.close()\n",
    "\n",
    "def keepUsers(path):\n",
    "    itemsPerUser = defaultdict(set)\n",
    "    for line in open(path):\n",
    "        d = json.loads(line)\n",
    "        itemsPerUser[d['gPlusUserId']].add(d['gPlusPlaceId']) \n",
    "    k = 5\n",
    "    users = []\n",
    "    reviews = []\n",
    "    for u in itemsPerUser:\n",
    "        if len(itemsPerUser[u]) > k:\n",
    "            users.append(u)\n",
    "        else:\n",
    "            for item in itemsPerUser[u]:\n",
    "                reviews.append((u, item))\n",
    "    return users, reviews\n",
    "\n",
    "def writeUsers(path, users):\n",
    "    f = open(usUsersPath, 'w')\n",
    "    for line in gzip.open(path):\n",
    "        d = eval(line)\n",
    "        if d['gPlusUserId'] in users:\n",
    "            f.write(json.dumps(d) + '\\n')\n",
    "    f.close()\n",
    "\n",
    "def removeReviews(path, reviews):\n",
    "    f = open(finalReviewsPath, 'w')\n",
    "    for line in open(path):\n",
    "        d = json.loads(line)\n",
    "        if (d['gPlusUserId'], d['gPlusPlaceId']) not in reviews:\n",
    "            f.write(json.dumps(d) + '\\n')\n",
    "    f.close()"
   ]
  },
  {
   "cell_type": "code",
   "execution_count": 5,
   "id": "4bde18a6",
   "metadata": {},
   "outputs": [
    {
     "name": "stdout",
     "output_type": "stream",
     "text": [
      "Time taken in secs 282.09713673591614\n"
     ]
    },
    {
     "data": {
      "text/plain": [
       "1308271"
      ]
     },
     "execution_count": 5,
     "metadata": {},
     "output_type": "execute_result"
    }
   ],
   "source": [
    "t1 = time.time()\n",
    "placeIds = filterPlaces(dataFolder + '/places.clean.json.gz')\n",
    "t2 = time.time()\n",
    "print('Time taken in secs', t2 - t1)\n",
    "len(placeIds)"
   ]
  },
  {
   "cell_type": "code",
   "execution_count": 6,
   "id": "3a51204f",
   "metadata": {},
   "outputs": [
    {
     "name": "stdout",
     "output_type": "stream",
     "text": [
      "Time taken in secs 596.6306154727936\n"
     ]
    }
   ],
   "source": [
    "t1 = time.time()\n",
    "filterReviews(dataFolder + '/reviews.clean.json.gz', placeIds)\n",
    "t2 = time.time()\n",
    "print('Time taken in secs', t2 - t1)"
   ]
  },
  {
   "cell_type": "code",
   "execution_count": 25,
   "id": "e72bbd86",
   "metadata": {},
   "outputs": [
    {
     "name": "stdout",
     "output_type": "stream",
     "text": [
      "Time taken in secs 443.93540477752686\n"
     ]
    }
   ],
   "source": [
    "t1 = time.time()\n",
    "kpUsers, rmReviews = keepUsers(usReviewsPath)\n",
    "t2 = time.time()\n",
    "print('Time taken in secs', t2 - t1)"
   ]
  },
  {
   "cell_type": "code",
   "execution_count": 27,
   "id": "f75252e3",
   "metadata": {},
   "outputs": [
    {
     "name": "stdout",
     "output_type": "stream",
     "text": [
      "Time taken in secs 319.38766956329346\n"
     ]
    }
   ],
   "source": [
    "t1 = time.time()\n",
    "writeUsers(usersPath, set(kpUsers))\n",
    "t2 = time.time()\n",
    "print('Time taken in secs', t2 - t1)"
   ]
  },
  {
   "cell_type": "code",
   "execution_count": 28,
   "id": "c643bff0",
   "metadata": {},
   "outputs": [
    {
     "data": {
      "text/plain": [
       "3416657"
      ]
     },
     "execution_count": 28,
     "metadata": {},
     "output_type": "execute_result"
    }
   ],
   "source": [
    "len(rmReviews)"
   ]
  },
  {
   "cell_type": "code",
   "execution_count": 29,
   "id": "166d2a01",
   "metadata": {},
   "outputs": [
    {
     "name": "stdout",
     "output_type": "stream",
     "text": [
      "Time taken in secs 395.1437101364136\n"
     ]
    }
   ],
   "source": [
    "t1 = time.time()\n",
    "removeReviews(usReviewsPath, set(rmReviews))\n",
    "t2 = time.time()\n",
    "print('Time taken in secs', t2 - t1)"
   ]
  },
  {
   "cell_type": "code",
   "execution_count": 21,
   "id": "0a220875",
   "metadata": {},
   "outputs": [],
   "source": [
    "\n",
    "stPlacesPath = 'data/ca/ca_places.json'\n",
    "stUsersPath = 'data/ca/ca_users.json'\n",
    "stReviewsPath = 'data/ca/ca_reviews.json'\n",
    "stFinalReviewsPath = 'data/ca/ca_final_reviews.json'\n",
    "st0Min, st0Max = 32.534, 42.009\n",
    "st1Min, st1Max = -124.4, -114.13\n",
    "def filterState(src, dest):\n",
    "    placeIds = []\n",
    "    f = open(dest, 'w')\n",
    "    for line in open(src):\n",
    "        d = json.loads(line)\n",
    "        if d['gps'] and d['gps'][0] > st0Min and d['gps'][0] < st0Max and d['gps'][1] > st1Min and d['gps'][1] < st1Max:\n",
    "            f.write(json.dumps(d) + '\\n')\n",
    "            placeIds.append(d['gPlusPlaceId'])\n",
    "    f.close()\n",
    "    return set(placeIds)\n",
    "\n",
    "def filterReviewsState(src, dest, placeIds):\n",
    "    countPerItem = defaultdict(int)\n",
    "    for line in open(src):\n",
    "        d = json.loads(line)\n",
    "        countPerItem[d['gPlusPlaceId']] += 1\n",
    "    \n",
    "    k = 2\n",
    "    f = open(dest, 'w')\n",
    "    for line in open(src):\n",
    "        d = json.loads(line)\n",
    "        if countPerItem[d['gPlusPlaceId']] > k and d['gPlusPlaceId'] in placeIds:\n",
    "            f.write(json.dumps(d) + '\\n')\n",
    "    f.close()\n",
    "    \n",
    "def keepUsersState(path):\n",
    "    itemsPerUser = defaultdict(set)\n",
    "    for line in open(path):\n",
    "        d = json.loads(line)\n",
    "        itemsPerUser[d['gPlusUserId']].add(d['gPlusPlaceId']) \n",
    "    k = 5\n",
    "    users = []\n",
    "    reviews = []\n",
    "    for u in itemsPerUser:\n",
    "        if len(itemsPerUser[u]) > k:\n",
    "            users.append(u)\n",
    "    return users\n",
    "\n",
    "def writeUsersState(src, dest, users):\n",
    "    f = open(dest, 'w')\n",
    "    for line in open(src):\n",
    "        d = json.loads(line)\n",
    "        if d['gPlusUserId'] in users:\n",
    "            f.write(json.dumps(d) + '\\n')\n",
    "    f.close()\n",
    "\n",
    "def removeReviewsState(src, dest, users):\n",
    "    f = open(dest, 'w')\n",
    "    for line in open(src):\n",
    "        d = json.loads(line)\n",
    "        if d['gPlusUserId'] in users:\n",
    "            f.write(json.dumps(d) + '\\n')\n",
    "    f.close()  "
   ]
  },
  {
   "cell_type": "code",
   "execution_count": 12,
   "id": "39902d05",
   "metadata": {},
   "outputs": [
    {
     "name": "stdout",
     "output_type": "stream",
     "text": [
      "Time taken in secs 21.71014976501465\n"
     ]
    }
   ],
   "source": [
    "t1 = time.time()\n",
    "placeIds = filterState(usPlacesPath, stPlacesPath)\n",
    "t2 = time.time()\n",
    "print('Time taken in secs', t2 - t1)"
   ]
  },
  {
   "cell_type": "code",
   "execution_count": 18,
   "id": "402e6b66",
   "metadata": {},
   "outputs": [
    {
     "name": "stdout",
     "output_type": "stream",
     "text": [
      "Time taken in secs 274.3517653942108\n"
     ]
    }
   ],
   "source": [
    "t1 = time.time()\n",
    "filterReviewsState(usReviewsPath, stReviewsPath, placeIds)\n",
    "t2 = time.time()\n",
    "print('Time taken in secs', t2 - t1)"
   ]
  },
  {
   "cell_type": "code",
   "execution_count": 19,
   "id": "360a812f",
   "metadata": {},
   "outputs": [
    {
     "name": "stdout",
     "output_type": "stream",
     "text": [
      "Time taken in secs 24.993324518203735\n"
     ]
    }
   ],
   "source": [
    "t1 = time.time()\n",
    "keepUsers = keepUsersState(stReviewsPath)\n",
    "t2 = time.time()\n",
    "print('Time taken in secs', t2 - t1)"
   ]
  },
  {
   "cell_type": "code",
   "execution_count": 22,
   "id": "d5f60bcb",
   "metadata": {},
   "outputs": [
    {
     "name": "stdout",
     "output_type": "stream",
     "text": [
      "Time taken in secs 98.0287938117981\n"
     ]
    }
   ],
   "source": [
    "t1 = time.time()\n",
    "writeUsersState(usUsersPath, stUsersPath, keepUsers)\n",
    "t2 = time.time()\n",
    "print('Time taken in secs', t2 - t1)"
   ]
  },
  {
   "cell_type": "code",
   "execution_count": 23,
   "id": "5d5b584d",
   "metadata": {},
   "outputs": [
    {
     "name": "stdout",
     "output_type": "stream",
     "text": [
      "Time taken in secs 510.65042901039124\n"
     ]
    }
   ],
   "source": [
    "t1 = time.time()\n",
    "removeReviewsState(stReviewsPath, stFinalReviewsPath, keepUsers)\n",
    "t2 = time.time()\n",
    "print('Time taken in secs', t2 - t1)"
   ]
  },
  {
   "cell_type": "markdown",
   "id": "b7b5d23a",
   "metadata": {},
   "source": [
    "## Exploratory data analysis"
   ]
  },
  {
   "cell_type": "code",
   "execution_count": 5,
   "id": "df103220",
   "metadata": {},
   "outputs": [],
   "source": [
    "userid, placeid = 'gPlusUserId', 'gPlusPlaceId'"
   ]
  },
  {
   "cell_type": "code",
   "execution_count": 6,
   "id": "c7b0d3ac",
   "metadata": {},
   "outputs": [],
   "source": [
    "reviews = readData(fReviewsPath)\n",
    "users = readData(fUsersPath)\n",
    "places = readData(fPlacesPath)"
   ]
  },
  {
   "cell_type": "code",
   "execution_count": 7,
   "id": "d6808e5f",
   "metadata": {},
   "outputs": [
    {
     "data": {
      "text/plain": [
       "(308846, 20000, 218132)"
      ]
     },
     "execution_count": 7,
     "metadata": {},
     "output_type": "execute_result"
    }
   ],
   "source": [
    "len(reviews), len(users), len(places)"
   ]
  },
  {
   "cell_type": "code",
   "execution_count": 8,
   "id": "9bac3007",
   "metadata": {},
   "outputs": [],
   "source": [
    "placesDict = {d[placeid]: d for d in places}\n",
    "usersDict = {d[userid]: d for d in users}"
   ]
  },
  {
   "cell_type": "code",
   "execution_count": 9,
   "id": "8c1ffb7f",
   "metadata": {},
   "outputs": [],
   "source": [
    "itemsPerUser, usersPerItem = defaultdict(set), defaultdict(set)\n",
    "for d in reviews:\n",
    "    itemsPerUser[d[userid]].add(d[placeid])\n",
    "    usersPerItem[d[placeid]].add(d[userid])"
   ]
  },
  {
   "cell_type": "code",
   "execution_count": 28,
   "id": "12ac0b7e",
   "metadata": {},
   "outputs": [],
   "source": [
    "lat, long, text = [], [], []\n",
    "for item in itemsPerUser[reviews[10000][userid]]:\n",
    "    d = placesDict[item]\n",
    "    if d['gps']:\n",
    "        lat.append(d['gps'][0])\n",
    "        long.append(d['gps'][1])\n",
    "        text.append(d['name'])"
   ]
  },
  {
   "cell_type": "code",
   "execution_count": 29,
   "id": "94d0c509",
   "metadata": {},
   "outputs": [
    {
     "data": {
      "text/plain": [
       "212"
      ]
     },
     "execution_count": 29,
     "metadata": {},
     "output_type": "execute_result"
    }
   ],
   "source": [
    "len(lat)"
   ]
  },
  {
   "cell_type": "code",
   "execution_count": 38,
   "id": "455a9c9c",
   "metadata": {
    "scrolled": false
   },
   "outputs": [
    {
     "data": {
      "image/png": "[encoded data removed]",
      "text/plain": [
       "<IPython.core.display.Image object>"
      ]
     },
     "execution_count": 38,
     "metadata": {},
     "output_type": "execute_result"
    }
   ],
   "source": [
    "fig = go.Figure(data=go.Scattergeo(\n",
    "        lon = long[-100:],\n",
    "        lat = lat[-100:],\n",
    "        mode = 'markers'\n",
    "        ))\n",
    "fig.update_layout(\n",
    "        title = 'User',\n",
    "        geo_scope='usa',\n",
    "    )\n",
    "imgBytes = fig.to_image(format=\"png\")\n",
    "Image(imgBytes)"
   ]
  },
  {
   "cell_type": "code",
   "execution_count": 36,
   "id": "20715ce7",
   "metadata": {},
   "outputs": [
    {
     "data": {
      "text/plain": [
       "({'name': 'Special Thai Restaurant',\n",
       "  'price': '$$',\n",
       "  'address': ['511 S Brookhurst St', 'Anaheim, CA 92804'],\n",
       "  'hours': [['Monday', [['11:00 am--9:00 pm']]],\n",
       "   ['Tuesday', [['11:00 am--9:00 pm']]],\n",
       "   ['Wednesday', [['11:00 am--9:00 pm']], 1],\n",
       "   ['Thursday', [['11:00 am--9:00 pm']]],\n",
       "   ['Friday', [['11:00 am--9:00 pm']]],\n",
       "   ['Saturday', [['11:00 am--9:00 pm']]],\n",
       "   ['Sunday', [['11:00 am--9:00 pm']]]],\n",
       "  'phone': '(714) 635-2920',\n",
       "  'closed': False,\n",
       "  'gPlusPlaceId': '109197242611730996653',\n",
       "  'gps': [33.826256, -117.959043]},\n",
       " {'rating': 5.0,\n",
       "  'reviewerName': 'Chris Johnson',\n",
       "  'reviewText': None,\n",
       "  'categories': ['American Restaurant', 'Bar'],\n",
       "  'gPlusPlaceId': '103654778391814923896',\n",
       "  'unixReviewTime': 1311509683,\n",
       "  'reviewTime': 'Jul 24, 2011',\n",
       "  'gPlusUserId': '100000524810171549476'})"
      ]
     },
     "execution_count": 36,
     "metadata": {},
     "output_type": "execute_result"
    }
   ],
   "source": [
    "places[179], reviews[0]"
   ]
  },
  {
   "cell_type": "markdown",
   "id": "1370c181",
   "metadata": {},
   "source": [
    "## Model"
   ]
  },
  {
   "cell_type": "markdown",
   "id": "022b1492",
   "metadata": {},
   "source": [
    "### Baseline 1: Popularity"
   ]
  },
  {
   "cell_type": "code",
   "execution_count": 6,
   "id": "8280fe8e",
   "metadata": {},
   "outputs": [],
   "source": [
    "placesCount = defaultdict(int)\n",
    "for r in reviews:\n",
    "    placesCount[r['gPlusPlaceId']] += 1\n",
    "popularPlaces = sorted([(placesCount[p], p) for p in placesCount], reverse=False)"
   ]
  },
  {
   "cell_type": "code",
   "execution_count": 12,
   "id": "83767a06",
   "metadata": {},
   "outputs": [
    {
     "data": {
      "text/plain": [
       "((1, '100000007848517518160'),\n",
       " {'rating': 4.0,\n",
       "  'reviewerName': 'william spindler',\n",
       "  'reviewText': 'Best War Wanton soup in Red Bluff',\n",
       "  'categories': ['Asian Restaurant', 'Chinese Restaurant'],\n",
       "  'gPlusPlaceId': '106591714648856494903',\n",
       "  'unixReviewTime': 1394669496,\n",
       "  'reviewTime': 'Mar 12, 2014',\n",
       "  'gPlusUserId': '100000032416892623125'})"
      ]
     },
     "execution_count": 12,
     "metadata": {},
     "output_type": "execute_result"
    }
   ],
   "source": [
    "popularPlaces[0], reviews[0]"
   ]
  },
  {
   "cell_type": "code",
   "execution_count": null,
   "id": "ccb30472",
   "metadata": {},
   "outputs": [],
   "source": [
    "class FPMC(tf.keras.Model):\n",
    "    def __init__(self, K, lamb, UI = 1, IJ = 1):\n",
    "        super(FPMC, self).__init__()\n",
    "        # Initialize variables\n",
    "        self.betaI = tf.Variable(tf.random.normal([len(itemIDs)],stddev=0.001))\n",
    "        self.gammaUI = tf.Variable(tf.random.normal([len(userIDs),K],stddev=0.001))\n",
    "        self.gammaIU = tf.Variable(tf.random.normal([len(itemIDs),K],stddev=0.001))\n",
    "        self.gammaIJ = tf.Variable(tf.random.normal([len(itemIDs),K],stddev=0.001))\n",
    "        self.gammaJI = tf.Variable(tf.random.normal([len(itemIDs),K],stddev=0.001))\n",
    "        # Regularization coefficient\n",
    "        self.lamb = lamb\n",
    "        # Which terms to include\n",
    "        self.UI = UI\n",
    "        self.IJ = IJ\n",
    "\n",
    "    # Prediction for a single instance\n",
    "    def predict(self, u, i, j):\n",
    "        p = self.betaI[i] + self.UI * tf.tensordot(self.gammaUI[u], self.gammaIU[i], 1) +\\\n",
    "                            self.IJ * tf.tensordot(self.gammaIJ[i], self.gammaJI[j], 1)\n",
    "        return p\n",
    "    \n",
    "    def predictSample(self, sampleU, sampleI, sampleJ):\n",
    "        u = tf.convert_to_tensor(sampleU, dtype=tf.int32)\n",
    "        i = tf.convert_to_tensor(sampleI, dtype=tf.int32)\n",
    "        j = tf.convert_to_tensor(sampleJ, dtype=tf.int32)\n",
    "        gamma_ui = tf.nn.embedding_lookup(self.gammaUI, u)\n",
    "        gamma_iu = tf.nn.embedding_lookup(self.gammaIU, i)\n",
    "        gamma_ij = tf.nn.embedding_lookup(self.gammaIJ, i)\n",
    "        gamma_ji = tf.nn.embedding_lookup(self.gammaJI, j)\n",
    "        beta_i = tf.nn.embedding_lookup(self.betaI, i)\n",
    "        return beta_i + self.UI * tf.reduce_sum(tf.multiply(gamma_ui, gamma_iu), 1) +\\\n",
    "                         self.IJ * tf.reduce_sum(tf.multiply(gamma_ij, gamma_ji), 1)\n",
    "    \n",
    "\n",
    "    # Regularizer\n",
    "    def reg(self):\n",
    "        return self.lamb * (tf.nn.l2_loss(self.betaI) +\\\n",
    "                            tf.nn.l2_loss(self.gammaUI) +\\\n",
    "                            tf.nn.l2_loss(self.gammaIU) +\\\n",
    "                            tf.nn.l2_loss(self.gammaIJ) +\\\n",
    "                            tf.nn.l2_loss(self.gammaJI))\n",
    "\n",
    "    def call(self, sampleU, # user\n",
    "                   sampleI, # item\n",
    "                   sampleJ, # previous item\n",
    "                   sampleK): # negative item\n",
    "        u = tf.convert_to_tensor(sampleU, dtype=tf.int32)\n",
    "        i = tf.convert_to_tensor(sampleI, dtype=tf.int32)\n",
    "        j = tf.convert_to_tensor(sampleJ, dtype=tf.int32)\n",
    "        k = tf.convert_to_tensor(sampleK, dtype=tf.int32)\n",
    "        gamma_ui = tf.nn.embedding_lookup(self.gammaUI, u)\n",
    "        gamma_iu = tf.nn.embedding_lookup(self.gammaIU, i)\n",
    "        gamma_ij = tf.nn.embedding_lookup(self.gammaIJ, i)\n",
    "        gamma_ji = tf.nn.embedding_lookup(self.gammaJI, j)\n",
    "        beta_i = tf.nn.embedding_lookup(self.betaI, i)\n",
    "        x_uij = beta_i + self.UI * tf.reduce_sum(tf.multiply(gamma_ui, gamma_iu), 1) +\\\n",
    "                         self.IJ * tf.reduce_sum(tf.multiply(gamma_ij, gamma_ji), 1)\n",
    "        gamma_uk = tf.nn.embedding_lookup(self.gammaUI, u)\n",
    "        gamma_ku = tf.nn.embedding_lookup(self.gammaIU, k)\n",
    "        gamma_kj = tf.nn.embedding_lookup(self.gammaIJ, k)\n",
    "        gamma_jk = tf.nn.embedding_lookup(self.gammaJI, j)\n",
    "        beta_k = tf.nn.embedding_lookup(self.betaI, k)\n",
    "        x_ukj = beta_k + self.UI * tf.reduce_sum(tf.multiply(gamma_uk, gamma_ku), 1) +\\\n",
    "                         self.IJ * tf.reduce_sum(tf.multiply(gamma_kj, gamma_jk), 1)\n",
    "        return -tf.reduce_mean(tf.math.log(tf.math.sigmoid(x_uij - x_ukj)))"
   ]
  },
  {
   "cell_type": "code",
   "execution_count": null,
   "id": "1383be7a",
   "metadata": {},
   "outputs": [],
   "source": [
    "class PopularBaseline():\n",
    "    def __init__(self):\n",
    "        placesCount = defaultdict(int)\n",
    "        for i, r in data_reviews.iterrows():\n",
    "            placesCount[r['gPlusPlaceId']] += 1\n",
    "        popularPlaces = sorted([(placesCount[p], p) for p in placesCount], reverse=False)\n",
    "        self.popScore = [0] * len(itemIDs)\n",
    "        for i, (c, p) for enumerate(popularPlaces):\n",
    "            self.popScore[itemIDs[p]] = i\n",
    "    \n",
    "    def predict(self, u, i, j):\n",
    "        return self.popScore[i]"
   ]
  },
  {
   "cell_type": "code",
   "execution_count": 37,
   "id": "0e6f9872",
   "metadata": {},
   "outputs": [],
   "source": [
    "count = set()\n",
    "for d in reviews:\n",
    "    if (d[userid], d[placeid]) in count:\n",
    "        print(userid, placeid)\n",
    "    count.add((d[userid], d[placeid]))"
   ]
  },
  {
   "cell_type": "markdown",
   "id": "777e5b41",
   "metadata": {},
   "source": [
    "## Evaluate"
   ]
  }
 ],
 "metadata": {
  "kernelspec": {
   "display_name": "Python 3 (ipykernel)",
   "language": "python",
   "name": "python3"
  },
  "language_info": {
   "codemirror_mode": {
    "name": "ipython",
    "version": 3
   },
   "file_extension": ".py",
   "mimetype": "text/x-python",
   "name": "python",
   "nbconvert_exporter": "python",
   "pygments_lexer": "ipython3",
   "version": "3.8.5"
  }
 },
 "nbformat": 4,
 "nbformat_minor": 5
}
