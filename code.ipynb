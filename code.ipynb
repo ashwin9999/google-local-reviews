{
 "cells": [
  {
   "cell_type": "markdown",
   "id": "25a08039",
   "metadata": {},
   "source": [
    "# CSE 258 - Assignment 2"
   ]
  },
  {
   "cell_type": "code",
   "execution_count": 11,
   "id": "1605d896",
   "metadata": {},
   "outputs": [],
   "source": [
    "import gzip\n",
    "import json\n",
    "import time\n",
    "from collections import defaultdict\n",
    "import plotly.graph_objects as go\n",
    "import tensorflow as tf\n",
    "from IPython.display import Image"
   ]
  },
  {
   "cell_type": "code",
   "execution_count": 2,
   "id": "6390b190",
   "metadata": {},
   "outputs": [],
   "source": [
    "dataFolder = 'data'"
   ]
  },
  {
   "cell_type": "markdown",
   "id": "89473e49",
   "metadata": {},
   "source": [
    "## Reduce dataset"
   ]
  },
  {
   "cell_type": "code",
   "execution_count": 20,
   "id": "149e206d",
   "metadata": {},
   "outputs": [],
   "source": [
    "us0Min, us0Max = 24.18, 49.03\n",
    "us1Min, us1Max = -125.57, -58.65\n",
    "usPlacesPath = dataFolder + '/us_places.json'\n",
    "usReviewsPath = dataFolder + '/us_reviews.json'\n",
    "finalReviewsPath = dataFolder + '/final_reviews.json'\n",
    "usUsersPath = dataFolder + '/us_users.json'\n",
    "reviewsPath = dataFolder + '/reviews.clean.json.gz' \n",
    "usersPath = dataFolder + '/users.clean.json.gz'"
   ]
  },
  {
   "cell_type": "code",
   "execution_count": null,
   "id": "47475348",
   "metadata": {},
   "outputs": [],
   "source": [
    "def readData(path):\n",
    "    data = []\n",
    "    for line in gzip.open(path):\n",
    "        d = eval(line)\n",
    "        data.append(d)\n",
    "        if len(data) > 100000:\n",
    "            break\n",
    "    return data"
   ]
  },
  {
   "cell_type": "code",
   "execution_count": 26,
   "id": "75e34a21",
   "metadata": {},
   "outputs": [],
   "source": [
    "def filterPlaces(path):\n",
    "    placeIds = []\n",
    "    f = open(usPlacesPath, 'w')\n",
    "    for line in gzip.open(path):\n",
    "        d = eval(line)\n",
    "        if d['gps'] and d['gps'][0] > us0Min and d['gps'][0] < us0Max and d['gps'][1] > us1Min and d['gps'][1] < us1Max:\n",
    "            f.write(json.dumps(d) + '\\n')\n",
    "            placeIds.append(d['gPlusPlaceId'])\n",
    "    f.close()\n",
    "    return set(placeIds)\n",
    "\n",
    "def filterReviews(path, placeIds):\n",
    "    f = open(usReviewsPath, 'w')\n",
    "    for line in gzip.open(path):\n",
    "        d = eval(line)\n",
    "        if d['gPlusPlaceId'] in placeIds:\n",
    "            f.write(json.dumps(d) + '\\n')\n",
    "    f.close()\n",
    "\n",
    "def keepUsers(path):\n",
    "    itemsPerUser = defaultdict(set)\n",
    "    for line in open(path):\n",
    "        d = json.loads(line)\n",
    "        itemsPerUser[d['gPlusUserId']].add(d['gPlusPlaceId']) \n",
    "    k = 5\n",
    "    users = []\n",
    "    reviews = []\n",
    "    for u in itemsPerUser:\n",
    "        if len(itemsPerUser[u]) > k:\n",
    "            users.append(u)\n",
    "        else:\n",
    "            for item in itemsPerUser[u]:\n",
    "                reviews.append((u, item))\n",
    "    return users, reviews\n",
    "\n",
    "def writeUsers(path, users):\n",
    "    f = open(usUsersPath, 'w')\n",
    "    for line in gzip.open(path):\n",
    "        d = eval(line)\n",
    "        if d['gPlusUserId'] in users:\n",
    "            f.write(json.dumps(d) + '\\n')\n",
    "    f.close()\n",
    "\n",
    "def removeReviews(path, reviews):\n",
    "    f = open(finalReviewsPath, 'w')\n",
    "    for line in open(path):\n",
    "        d = json.loads(line)\n",
    "        if (d['gPlusUserId'], d['gPlusPlaceId']) not in reviews:\n",
    "            f.write(json.dumps(d) + '\\n')\n",
    "    f.close()"
   ]
  },
  {
   "cell_type": "code",
   "execution_count": 5,
   "id": "4bde18a6",
   "metadata": {},
   "outputs": [
    {
     "name": "stdout",
     "output_type": "stream",
     "text": [
      "Time taken in secs 282.09713673591614\n"
     ]
    },
    {
     "data": {
      "text/plain": [
       "1308271"
      ]
     },
     "execution_count": 5,
     "metadata": {},
     "output_type": "execute_result"
    }
   ],
   "source": [
    "t1 = time.time()\n",
    "placeIds = filterPlaces(dataFolder + '/places.clean.json.gz')\n",
    "t2 = time.time()\n",
    "print('Time taken in secs', t2 - t1)\n",
    "len(placeIds)"
   ]
  },
  {
   "cell_type": "code",
   "execution_count": 6,
   "id": "3a51204f",
   "metadata": {},
   "outputs": [
    {
     "name": "stdout",
     "output_type": "stream",
     "text": [
      "Time taken in secs 596.6306154727936\n"
     ]
    }
   ],
   "source": [
    "t1 = time.time()\n",
    "filterReviews(dataFolder + '/reviews.clean.json.gz', placeIds)\n",
    "t2 = time.time()\n",
    "print('Time taken in secs', t2 - t1)"
   ]
  },
  {
   "cell_type": "code",
   "execution_count": 25,
   "id": "e72bbd86",
   "metadata": {},
   "outputs": [
    {
     "name": "stdout",
     "output_type": "stream",
     "text": [
      "Time taken in secs 443.93540477752686\n"
     ]
    }
   ],
   "source": [
    "t1 = time.time()\n",
    "kpUsers, rmReviews = keepUsers(usReviewsPath)\n",
    "t2 = time.time()\n",
    "print('Time taken in secs', t2 - t1)"
   ]
  },
  {
   "cell_type": "code",
   "execution_count": 27,
   "id": "f75252e3",
   "metadata": {},
   "outputs": [
    {
     "name": "stdout",
     "output_type": "stream",
     "text": [
      "Time taken in secs 319.38766956329346\n"
     ]
    }
   ],
   "source": [
    "t1 = time.time()\n",
    "writeUsers(usersPath, set(kpUsers))\n",
    "t2 = time.time()\n",
    "print('Time taken in secs', t2 - t1)"
   ]
  },
  {
   "cell_type": "code",
   "execution_count": 28,
   "id": "c643bff0",
   "metadata": {},
   "outputs": [
    {
     "data": {
      "text/plain": [
       "3416657"
      ]
     },
     "execution_count": 28,
     "metadata": {},
     "output_type": "execute_result"
    }
   ],
   "source": [
    "len(rmReviews)"
   ]
  },
  {
   "cell_type": "code",
   "execution_count": 29,
   "id": "166d2a01",
   "metadata": {},
   "outputs": [
    {
     "name": "stdout",
     "output_type": "stream",
     "text": [
      "Time taken in secs 395.1437101364136\n"
     ]
    }
   ],
   "source": [
    "t1 = time.time()\n",
    "removeReviews(usReviewsPath, set(rmReviews))\n",
    "t2 = time.time()\n",
    "print('Time taken in secs', t2 - t1)"
   ]
  },
  {
   "cell_type": "markdown",
   "id": "b7b5d23a",
   "metadata": {},
   "source": [
    "## Exploratory data analysis"
   ]
  },
  {
   "cell_type": "code",
   "execution_count": null,
   "id": "12ac0b7e",
   "metadata": {},
   "outputs": [],
   "source": [
    "lat, long, text = [], [], []\n",
    "for d in places:\n",
    "    if d['gps']:\n",
    "        lat.append(d['gps'][0])\n",
    "        long.append(d['gps'][1])\n",
    "        text.append(d['name'])"
   ]
  },
  {
   "cell_type": "code",
   "execution_count": null,
   "id": "455a9c9c",
   "metadata": {},
   "outputs": [],
   "source": [
    "fig = go.Figure(data=go.Scattergeo(\n",
    "        lon = long,\n",
    "        lat = lat,\n",
    "        text = text,\n",
    "        mode = 'markers'\n",
    "        ))\n",
    "imgBytes = fig.to_image(format=\"png\")\n",
    "Image(imgBytes)"
   ]
  },
  {
   "cell_type": "markdown",
   "id": "1370c181",
   "metadata": {},
   "source": [
    "## Model"
   ]
  },
  {
   "cell_type": "code",
   "execution_count": null,
   "id": "ccb30472",
   "metadata": {},
   "outputs": [],
   "source": [
    "class FPMC(tf.keras.Model):\n",
    "    def __init__(self, K, lamb, UI = 1, IJ = 1):\n",
    "        super(FPMC, self).__init__()\n",
    "        # Initialize variables\n",
    "        self.betaI = tf.Variable(tf.random.normal([len(itemIDs)],stddev=0.001))\n",
    "        self.gammaUI = tf.Variable(tf.random.normal([len(userIDs),K],stddev=0.001))\n",
    "        self.gammaIU = tf.Variable(tf.random.normal([len(itemIDs),K],stddev=0.001))\n",
    "        self.gammaIJ = tf.Variable(tf.random.normal([len(itemIDs),K],stddev=0.001))\n",
    "        self.gammaJI = tf.Variable(tf.random.normal([len(itemIDs),K],stddev=0.001))\n",
    "        # Regularization coefficient\n",
    "        self.lamb = lamb\n",
    "        # Which terms to include\n",
    "        self.UI = UI\n",
    "        self.IJ = IJ\n",
    "\n",
    "    # Prediction for a single instance\n",
    "    def predict(self, u, i, j):\n",
    "        p = self.betaI[i] + self.UI * tf.tensordot(self.gammaUI[u], self.gammaIU[i], 1) +\\\n",
    "                            self.IJ * tf.tensordot(self.gammaIJ[i], self.gammaJI[j], 1)\n",
    "        return p\n",
    "    \n",
    "    def predictSample(self, sampleU, sampleI, sampleJ):\n",
    "        u = tf.convert_to_tensor(sampleU, dtype=tf.int32)\n",
    "        i = tf.convert_to_tensor(sampleI, dtype=tf.int32)\n",
    "        j = tf.convert_to_tensor(sampleJ, dtype=tf.int32)\n",
    "        gamma_ui = tf.nn.embedding_lookup(self.gammaUI, u)\n",
    "        gamma_iu = tf.nn.embedding_lookup(self.gammaIU, i)\n",
    "        gamma_ij = tf.nn.embedding_lookup(self.gammaIJ, i)\n",
    "        gamma_ji = tf.nn.embedding_lookup(self.gammaJI, j)\n",
    "        beta_i = tf.nn.embedding_lookup(self.betaI, i)\n",
    "        return beta_i + self.UI * tf.reduce_sum(tf.multiply(gamma_ui, gamma_iu), 1) +\\\n",
    "                         self.IJ * tf.reduce_sum(tf.multiply(gamma_ij, gamma_ji), 1)\n",
    "    \n",
    "\n",
    "    # Regularizer\n",
    "    def reg(self):\n",
    "        return self.lamb * (tf.nn.l2_loss(self.betaI) +\\\n",
    "                            tf.nn.l2_loss(self.gammaUI) +\\\n",
    "                            tf.nn.l2_loss(self.gammaIU) +\\\n",
    "                            tf.nn.l2_loss(self.gammaIJ) +\\\n",
    "                            tf.nn.l2_loss(self.gammaJI))\n",
    "\n",
    "    def call(self, sampleU, # user\n",
    "                   sampleI, # item\n",
    "                   sampleJ, # previous item\n",
    "                   sampleK): # negative item\n",
    "        u = tf.convert_to_tensor(sampleU, dtype=tf.int32)\n",
    "        i = tf.convert_to_tensor(sampleI, dtype=tf.int32)\n",
    "        j = tf.convert_to_tensor(sampleJ, dtype=tf.int32)\n",
    "        k = tf.convert_to_tensor(sampleK, dtype=tf.int32)\n",
    "        gamma_ui = tf.nn.embedding_lookup(self.gammaUI, u)\n",
    "        gamma_iu = tf.nn.embedding_lookup(self.gammaIU, i)\n",
    "        gamma_ij = tf.nn.embedding_lookup(self.gammaIJ, i)\n",
    "        gamma_ji = tf.nn.embedding_lookup(self.gammaJI, j)\n",
    "        beta_i = tf.nn.embedding_lookup(self.betaI, i)\n",
    "        x_uij = beta_i + self.UI * tf.reduce_sum(tf.multiply(gamma_ui, gamma_iu), 1) +\\\n",
    "                         self.IJ * tf.reduce_sum(tf.multiply(gamma_ij, gamma_ji), 1)\n",
    "        gamma_uk = tf.nn.embedding_lookup(self.gammaUI, u)\n",
    "        gamma_ku = tf.nn.embedding_lookup(self.gammaIU, k)\n",
    "        gamma_kj = tf.nn.embedding_lookup(self.gammaIJ, k)\n",
    "        gamma_jk = tf.nn.embedding_lookup(self.gammaJI, j)\n",
    "        beta_k = tf.nn.embedding_lookup(self.betaI, k)\n",
    "        x_ukj = beta_k + self.UI * tf.reduce_sum(tf.multiply(gamma_uk, gamma_ku), 1) +\\\n",
    "                         self.IJ * tf.reduce_sum(tf.multiply(gamma_kj, gamma_jk), 1)\n",
    "        return -tf.reduce_mean(tf.math.log(tf.math.sigmoid(x_uij - x_ukj)))"
   ]
  },
  {
   "cell_type": "markdown",
   "id": "777e5b41",
   "metadata": {},
   "source": [
    "## Evaluate"
   ]
  }
 ],
 "metadata": {
  "kernelspec": {
   "display_name": "Python 3 (ipykernel)",
   "language": "python",
   "name": "python3"
  },
  "language_info": {
   "codemirror_mode": {
    "name": "ipython",
    "version": 3
   },
   "file_extension": ".py",
   "mimetype": "text/x-python",
   "name": "python",
   "nbconvert_exporter": "python",
   "pygments_lexer": "ipython3",
   "version": "3.8.5"
  }
 },
 "nbformat": 4,
 "nbformat_minor": 5
}
